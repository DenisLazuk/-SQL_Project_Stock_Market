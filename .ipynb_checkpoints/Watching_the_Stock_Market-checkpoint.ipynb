{
 "cells": [
  {
   "cell_type": "code",
   "execution_count": 105,
   "id": "873afa39",
   "metadata": {},
   "outputs": [],
   "source": [
    "# import necessary libriaries\n",
    "import sqlite3\n",
    "import csv\n",
    "import pandas as pd\n",
    "import datetime as dt"
   ]
  },
  {
   "cell_type": "code",
   "execution_count": 106,
   "id": "8b5c246d",
   "metadata": {},
   "outputs": [
    {
     "name": "stdout",
     "output_type": "stream",
     "text": [
      "   symbol          name    datetime    price\n",
      "0    AAPL     Apple Inc  2022-11-04  136.510\n",
      "1      BA     Boeing Co  2022-11-04  160.210\n",
      "2    INTC    Intel Corp  2022-11-04   27.960\n",
      "3      KO  Coca-Cola Co  2022-11-04   59.490\n",
      "4     NKE      Nike Inc  2022-11-04   97.320\n",
      "5    AAPL     Apple Inc  2022-10-04  145.030\n",
      "6      BA     Boeing Co  2022-10-04  129.400\n",
      "7    INTC    Intel Corp  2022-10-04   27.425\n",
      "8      KO  Coca-Cola Co  2022-10-04   56.950\n",
      "9     NKE      Nike Inc  2022-10-04   87.700\n",
      "10   AAPL     Apple Inc  2022-09-20  153.400\n",
      "11     BA     Boeing Co  2022-09-20  145.260\n",
      "12   INTC    Intel Corp  2022-09-20   29.065\n",
      "13     KO  Coca-Cola Co  2022-09-20   59.680\n",
      "14    NKE      Nike Inc  2022-09-20  103.820\n",
      "15   AAPL     Apple Inc  2022-09-02  159.750\n",
      "16     BA     Boeing Co  2022-09-02  155.190\n",
      "17   INTC    Intel Corp  2022-09-02   32.210\n",
      "18     KO  Coca-Cola Co  2022-09-02   62.390\n",
      "19    NKE      Nike Inc  2022-09-02  107.460\n",
      "20   AAPL     Apple Inc  2022-08-22  169.690\n",
      "21     BA     Boeing Co  2022-08-22  159.400\n",
      "22   INTC    Intel Corp  2022-08-22   35.000\n",
      "23     KO  Coca-Cola Co  2022-08-22   64.840\n",
      "24    NKE      Nike Inc  2022-08-22  111.020\n",
      "25   AAPL     Apple Inc  2022-08-08  166.370\n",
      "26     BA     Boeing Co  2022-08-08  166.410\n",
      "27   INTC    Intel Corp  2022-08-08   35.360\n",
      "28     KO  Coca-Cola Co  2022-08-08   63.500\n",
      "29    NKE      Nike Inc  2022-08-08  114.000\n"
     ]
    }
   ],
   "source": [
    "# import dataset from csv\n",
    "data = pd.read_csv('data.csv', delimiter=';')\n",
    "print(data)"
   ]
  },
  {
   "cell_type": "code",
   "execution_count": 107,
   "id": "68728c11",
   "metadata": {},
   "outputs": [],
   "source": [
    "# establish connection and cursor object\n",
    "connection = sqlite3.connect(\"stocks.db\")\n",
    "cursor = connection.cursor()"
   ]
  },
  {
   "cell_type": "code",
   "execution_count": 108,
   "id": "ff347f05",
   "metadata": {},
   "outputs": [],
   "source": [
    "# create empty table\n",
    "cursor.execute ('''CREATE TABLE stocks (symbol TEXT UNIQUE,\n",
    "name TEXT UNIQUE, \n",
    "datetime TEXT, \n",
    "price INTEGER);''');"
   ]
  },
  {
   "cell_type": "code",
   "execution_count": 109,
   "id": "81ee6c38",
   "metadata": {},
   "outputs": [],
   "source": [
    "# import dataset to database 'users' \n",
    "data.to_sql('stocks', connection, if_exists='replace')"
   ]
  },
  {
   "cell_type": "code",
   "execution_count": 110,
   "id": "de906069",
   "metadata": {
    "scrolled": true
   },
   "outputs": [
    {
     "data": {
      "text/plain": [
       "[(0, 'AAPL', 'Apple Inc', '2022-11-04', 136.51),\n",
       " (1, 'BA', 'Boeing Co', '2022-11-04', 160.21),\n",
       " (2, 'INTC', 'Intel Corp', '2022-11-04', 27.96),\n",
       " (3, 'KO', 'Coca-Cola Co', '2022-11-04', 59.49),\n",
       " (4, 'NKE', 'Nike Inc', '2022-11-04', 97.32),\n",
       " (5, 'AAPL', 'Apple Inc', '2022-10-04', 145.03),\n",
       " (6, 'BA', 'Boeing Co', '2022-10-04', 129.4),\n",
       " (7, 'INTC', 'Intel Corp', '2022-10-04', 27.425),\n",
       " (8, 'KO', 'Coca-Cola Co', '2022-10-04', 56.95),\n",
       " (9, 'NKE', 'Nike Inc', '2022-10-04', 87.7),\n",
       " (10, 'AAPL', 'Apple Inc', '2022-09-20', 153.4),\n",
       " (11, 'BA', 'Boeing Co', '2022-09-20', 145.26),\n",
       " (12, 'INTC', 'Intel Corp', '2022-09-20', 29.065),\n",
       " (13, 'KO', 'Coca-Cola Co', '2022-09-20', 59.68),\n",
       " (14, 'NKE', 'Nike Inc', '2022-09-20', 103.82),\n",
       " (15, 'AAPL', 'Apple Inc', '2022-09-02', 159.75),\n",
       " (16, 'BA', 'Boeing Co', '2022-09-02', 155.19),\n",
       " (17, 'INTC', 'Intel Corp', '2022-09-02', 32.21),\n",
       " (18, 'KO', 'Coca-Cola Co', '2022-09-02', 62.39),\n",
       " (19, 'NKE', 'Nike Inc', '2022-09-02', 107.46),\n",
       " (20, 'AAPL', 'Apple Inc', '2022-08-22', 169.69),\n",
       " (21, 'BA', 'Boeing Co', '2022-08-22', 159.4),\n",
       " (22, 'INTC', 'Intel Corp', '2022-08-22', 35.0),\n",
       " (23, 'KO', 'Coca-Cola Co', '2022-08-22', 64.84),\n",
       " (24, 'NKE', 'Nike Inc', '2022-08-22', 111.02),\n",
       " (25, 'AAPL', 'Apple Inc', '2022-08-08', 166.37),\n",
       " (26, 'BA', 'Boeing Co', '2022-08-08', 166.41),\n",
       " (27, 'INTC', 'Intel Corp', '2022-08-08', 35.36),\n",
       " (28, 'KO', 'Coca-Cola Co', '2022-08-08', 63.5),\n",
       " (29, 'NKE', 'Nike Inc', '2022-08-08', 114.0)]"
      ]
     },
     "execution_count": 110,
     "metadata": {},
     "output_type": "execute_result"
    }
   ],
   "source": [
    "cursor.execute ('''SELECT * FROM stocks;''').fetchall()"
   ]
  },
  {
   "cell_type": "code",
   "execution_count": 111,
   "id": "0a60a06a",
   "metadata": {},
   "outputs": [
    {
     "data": {
      "text/plain": [
       "[('AAPL',), ('BA',), ('INTC',), ('KO',), ('NKE',)]"
      ]
     },
     "execution_count": 111,
     "metadata": {},
     "output_type": "execute_result"
    }
   ],
   "source": [
    "# 1. What are the distinct stocks in the table?\n",
    "cursor.execute ('''SELECT DISTINCT (symbol) FROM stocks;''').fetchall()"
   ]
  },
  {
   "cell_type": "code",
   "execution_count": 112,
   "id": "fbbf3bab",
   "metadata": {},
   "outputs": [
    {
     "data": {
      "text/plain": [
       "[(0, 'AAPL', 'Apple Inc', '2022-11-04', 136.51),\n",
       " (5, 'AAPL', 'Apple Inc', '2022-10-04', 145.03),\n",
       " (10, 'AAPL', 'Apple Inc', '2022-09-20', 153.4),\n",
       " (15, 'AAPL', 'Apple Inc', '2022-09-02', 159.75),\n",
       " (20, 'AAPL', 'Apple Inc', '2022-08-22', 169.69),\n",
       " (25, 'AAPL', 'Apple Inc', '2022-08-08', 166.37)]"
      ]
     },
     "execution_count": 112,
     "metadata": {},
     "output_type": "execute_result"
    }
   ],
   "source": [
    "# 2. Query all data for a single stock. Do you notice any overall trends?\n",
    "cursor.execute ('''SELECT * \n",
    "    FROM stocks\n",
    "    WHERE symbol IS 'AAPL';''').fetchall()"
   ]
  },
  {
   "cell_type": "code",
   "execution_count": 113,
   "id": "85ffc59f",
   "metadata": {},
   "outputs": [
    {
     "data": {
      "text/plain": [
       "[(0, 'AAPL', 'Apple Inc', '2022-11-04', 136.51),\n",
       " (1, 'BA', 'Boeing Co', '2022-11-04', 160.21),\n",
       " (5, 'AAPL', 'Apple Inc', '2022-10-04', 145.03),\n",
       " (6, 'BA', 'Boeing Co', '2022-10-04', 129.4),\n",
       " (10, 'AAPL', 'Apple Inc', '2022-09-20', 153.4),\n",
       " (11, 'BA', 'Boeing Co', '2022-09-20', 145.26),\n",
       " (14, 'NKE', 'Nike Inc', '2022-09-20', 103.82),\n",
       " (15, 'AAPL', 'Apple Inc', '2022-09-02', 159.75),\n",
       " (16, 'BA', 'Boeing Co', '2022-09-02', 155.19),\n",
       " (19, 'NKE', 'Nike Inc', '2022-09-02', 107.46),\n",
       " (20, 'AAPL', 'Apple Inc', '2022-08-22', 169.69),\n",
       " (21, 'BA', 'Boeing Co', '2022-08-22', 159.4),\n",
       " (24, 'NKE', 'Nike Inc', '2022-08-22', 111.02),\n",
       " (25, 'AAPL', 'Apple Inc', '2022-08-08', 166.37),\n",
       " (26, 'BA', 'Boeing Co', '2022-08-08', 166.41),\n",
       " (29, 'NKE', 'Nike Inc', '2022-08-08', 114.0)]"
      ]
     },
     "execution_count": 113,
     "metadata": {},
     "output_type": "execute_result"
    }
   ],
   "source": [
    "# 3. Which rows have a price above 100? \n",
    "cursor.execute ('''SELECT * \n",
    "    FROM stocks\n",
    "    WHERE price > 100;''').fetchall()"
   ]
  },
  {
   "cell_type": "code",
   "execution_count": 114,
   "id": "98528b07",
   "metadata": {},
   "outputs": [
    {
     "data": {
      "text/plain": [
       "[(17, 'INTC', 'Intel Corp', '2022-09-02', 32.21),\n",
       " (22, 'INTC', 'Intel Corp', '2022-08-22', 35.0),\n",
       " (27, 'INTC', 'Intel Corp', '2022-08-08', 35.36)]"
      ]
     },
     "execution_count": 114,
     "metadata": {},
     "output_type": "execute_result"
    }
   ],
   "source": [
    "# 4. And how about between 30 to 50?\n",
    "cursor.execute ('''SELECT * \n",
    "    FROM stocks\n",
    "    WHERE price BETWEEN 30 AND 50;''').fetchall()"
   ]
  },
  {
   "cell_type": "code",
   "execution_count": 115,
   "id": "8d05248c",
   "metadata": {},
   "outputs": [
    {
     "data": {
      "text/plain": [
       "[(20, 'AAPL', 'Apple Inc', '2022-08-22', 169.69),\n",
       " (26, 'BA', 'Boeing Co', '2022-08-08', 166.41),\n",
       " (25, 'AAPL', 'Apple Inc', '2022-08-08', 166.37),\n",
       " (1, 'BA', 'Boeing Co', '2022-11-04', 160.21),\n",
       " (15, 'AAPL', 'Apple Inc', '2022-09-02', 159.75),\n",
       " (21, 'BA', 'Boeing Co', '2022-08-22', 159.4),\n",
       " (16, 'BA', 'Boeing Co', '2022-09-02', 155.19),\n",
       " (10, 'AAPL', 'Apple Inc', '2022-09-20', 153.4),\n",
       " (11, 'BA', 'Boeing Co', '2022-09-20', 145.26),\n",
       " (5, 'AAPL', 'Apple Inc', '2022-10-04', 145.03),\n",
       " (0, 'AAPL', 'Apple Inc', '2022-11-04', 136.51),\n",
       " (6, 'BA', 'Boeing Co', '2022-10-04', 129.4),\n",
       " (29, 'NKE', 'Nike Inc', '2022-08-08', 114.0),\n",
       " (24, 'NKE', 'Nike Inc', '2022-08-22', 111.02),\n",
       " (19, 'NKE', 'Nike Inc', '2022-09-02', 107.46),\n",
       " (14, 'NKE', 'Nike Inc', '2022-09-20', 103.82),\n",
       " (4, 'NKE', 'Nike Inc', '2022-11-04', 97.32),\n",
       " (9, 'NKE', 'Nike Inc', '2022-10-04', 87.7),\n",
       " (23, 'KO', 'Coca-Cola Co', '2022-08-22', 64.84),\n",
       " (28, 'KO', 'Coca-Cola Co', '2022-08-08', 63.5),\n",
       " (18, 'KO', 'Coca-Cola Co', '2022-09-02', 62.39),\n",
       " (13, 'KO', 'Coca-Cola Co', '2022-09-20', 59.68),\n",
       " (3, 'KO', 'Coca-Cola Co', '2022-11-04', 59.49),\n",
       " (8, 'KO', 'Coca-Cola Co', '2022-10-04', 56.95),\n",
       " (27, 'INTC', 'Intel Corp', '2022-08-08', 35.36),\n",
       " (22, 'INTC', 'Intel Corp', '2022-08-22', 35.0),\n",
       " (17, 'INTC', 'Intel Corp', '2022-09-02', 32.21),\n",
       " (12, 'INTC', 'Intel Corp', '2022-09-20', 29.065),\n",
       " (2, 'INTC', 'Intel Corp', '2022-11-04', 27.96),\n",
       " (7, 'INTC', 'Intel Corp', '2022-10-04', 27.425)]"
      ]
     },
     "execution_count": 115,
     "metadata": {},
     "output_type": "execute_result"
    }
   ],
   "source": [
    "# 5. Sort the table by price. What are the minimum and maximum prices?\n",
    "cursor.execute ('''SELECT * \n",
    "    FROM stocks\n",
    "    ORDER BY price DESC;''').fetchall()"
   ]
  },
  {
   "cell_type": "code",
   "execution_count": 116,
   "id": "eb8d6c14",
   "metadata": {},
   "outputs": [
    {
     "data": {
      "text/plain": [
       "[('AAPL', 'Apple Inc', '2022-08-22', 169.69)]"
      ]
     },
     "execution_count": 116,
     "metadata": {},
     "output_type": "execute_result"
    }
   ],
   "source": [
    "# 6. Explore using aggregate functions to look at key statistics about the data.\n",
    "# What is the maximum price? \n",
    "cursor.execute ('''SELECT symbol, name, datetime, MAX (price) \n",
    "    FROM stocks;''').fetchall()\n"
   ]
  },
  {
   "cell_type": "code",
   "execution_count": 117,
   "id": "8aa1ac82",
   "metadata": {},
   "outputs": [
    {
     "data": {
      "text/plain": [
       "[('INTC', 'Intel Corp', '2022-10-04', 27.425)]"
      ]
     },
     "execution_count": 117,
     "metadata": {},
     "output_type": "execute_result"
    }
   ],
   "source": [
    "# 7. # What is the minimum price? \n",
    "cursor.execute ('''SELECT symbol, name, datetime, MIN (price) \n",
    "    FROM stocks;''').fetchall()"
   ]
  },
  {
   "cell_type": "code",
   "execution_count": 118,
   "id": "3e0de8ed",
   "metadata": {},
   "outputs": [
    {
     "data": {
      "text/plain": [
       "('AAPL', 'Apple Inc', '2022-11-04', 101.0)"
      ]
     },
     "execution_count": 118,
     "metadata": {},
     "output_type": "execute_result"
    }
   ],
   "source": [
    "# 8. # What is the average price? \n",
    "cursor.execute ('''SELECT symbol, name, datetime, ROUND(AVG (price),0) \n",
    "    FROM stocks;''').fetchone()"
   ]
  },
  {
   "cell_type": "code",
   "execution_count": 119,
   "id": "54c048c1",
   "metadata": {},
   "outputs": [
    {
     "data": {
      "text/plain": [
       "[('AAPL', 155.0), ('BA', 153.0), ('NKE', 104.0), ('KO', 61.0), ('INTC', 31.0)]"
      ]
     },
     "execution_count": 119,
     "metadata": {},
     "output_type": "execute_result"
    }
   ],
   "source": [
    "# 9. Group the data by stock. How do the stocks compare to each other?\n",
    "cursor.execute ('''SELECT symbol, ROUND(AVG (price),0) \n",
    "    FROM stocks\n",
    "    GROUP BY 1\n",
    "    ORDER BY 2 DESC;''').fetchall()"
   ]
  },
  {
   "cell_type": "code",
   "execution_count": 147,
   "id": "c0aa9fdf",
   "metadata": {},
   "outputs": [
    {
     "data": {
      "text/plain": [
       "[('08', 109.0, 10), ('09', 101.0, 10), ('10', 89.0, 5), ('11', 96.0, 5)]"
      ]
     },
     "execution_count": 147,
     "metadata": {},
     "output_type": "execute_result"
    }
   ],
   "source": [
    "# 10. Group the data by month. How do the months compare to each other?\n",
    "cursor.execute ('''SELECT strftime ('%m', datetime) AS 'Month',\n",
    "  ROUND (AVG (price), 0) AS 'Average Price',\n",
    "  COUNT (*) AS 'Number of Stocks'\n",
    "  FROM stocks\n",
    "  GROUP BY 1\n",
    "  ORDER BY 1;''').fetchall()\n"
   ]
  },
  {
   "cell_type": "code",
   "execution_count": 167,
   "id": "5d1d0f9a",
   "metadata": {},
   "outputs": [
    {
     "data": {
      "text/plain": [
       "(35,)"
      ]
     },
     "execution_count": 167,
     "metadata": {},
     "output_type": "execute_result"
    }
   ],
   "source": [
    "# 11. Insert data manually. First check the number of rows\n",
    "cursor.execute ('''SELECT COUNT (*)\n",
    "FROM stocks;''').fetchone()"
   ]
  },
  {
   "cell_type": "code",
   "execution_count": 171,
   "id": "ceb18266",
   "metadata": {
    "scrolled": true
   },
   "outputs": [
    {
     "data": {
      "text/plain": [
       "<sqlite3.Cursor at 0x1eff14973b0>"
      ]
     },
     "execution_count": 171,
     "metadata": {},
     "output_type": "execute_result"
    }
   ],
   "source": [
    "# Perform insert\n",
    "cursor.execute ('''INSERT INTO stocks VALUES\n",
    "(31, 'AAPL','Apple Inc', strftime('%Y-%m-%d','now'), 138.38);''') "
   ]
  },
  {
   "cell_type": "code",
   "execution_count": 153,
   "id": "4fd6c99d",
   "metadata": {},
   "outputs": [
    {
     "data": {
      "text/plain": [
       "<sqlite3.Cursor at 0x1eff14973b0>"
      ]
     },
     "execution_count": 153,
     "metadata": {},
     "output_type": "execute_result"
    }
   ],
   "source": [
    "cursor.execute ('''INSERT INTO stocks VALUES\n",
    "(32, 'BA','Boeing Co', strftime('%Y-%m-%d','now'), 160.01);''') "
   ]
  },
  {
   "cell_type": "code",
   "execution_count": 164,
   "id": "230f169f",
   "metadata": {},
   "outputs": [
    {
     "data": {
      "text/plain": [
       "<sqlite3.Cursor at 0x1eff14973b0>"
      ]
     },
     "execution_count": 164,
     "metadata": {},
     "output_type": "execute_result"
    }
   ],
   "source": [
    "cursor.execute ('''INSERT INTO stocks VALUES\n",
    "(33, 'NKE','Nike Inc', strftime('%Y-%m-%d','now'), 95.79);''') "
   ]
  },
  {
   "cell_type": "code",
   "execution_count": 165,
   "id": "6131f79b",
   "metadata": {},
   "outputs": [
    {
     "data": {
      "text/plain": [
       "<sqlite3.Cursor at 0x1eff14973b0>"
      ]
     },
     "execution_count": 165,
     "metadata": {},
     "output_type": "execute_result"
    }
   ],
   "source": [
    "cursor.execute ('''INSERT INTO stocks VALUES\n",
    "(34, 'KO','Coca-Cola Co', strftime('%Y-%m-%d','now'), 59.26);''') "
   ]
  },
  {
   "cell_type": "code",
   "execution_count": 166,
   "id": "ae457660",
   "metadata": {},
   "outputs": [
    {
     "data": {
      "text/plain": [
       "<sqlite3.Cursor at 0x1eff14973b0>"
      ]
     },
     "execution_count": 166,
     "metadata": {},
     "output_type": "execute_result"
    }
   ],
   "source": [
    "cursor.execute ('''INSERT INTO stocks VALUES\n",
    "(35, 'INTC','Intel Corp', strftime('%Y-%m-%d','now'), 28.20);''') "
   ]
  },
  {
   "cell_type": "code",
   "execution_count": 168,
   "id": "e942b66b",
   "metadata": {},
   "outputs": [
    {
     "data": {
      "text/plain": [
       "(35,)"
      ]
     },
     "execution_count": 168,
     "metadata": {},
     "output_type": "execute_result"
    }
   ],
   "source": [
    "# check the number of rows now\n",
    "cursor.execute ('''SELECT COUNT (*)\n",
    "FROM stocks;''').fetchone()"
   ]
  },
  {
   "cell_type": "code",
   "execution_count": 170,
   "id": "d817ef33",
   "metadata": {},
   "outputs": [
    {
     "data": {
      "text/plain": [
       "[(0, 'AAPL', 'Apple Inc', '2022-11-04', 136.51),\n",
       " (1, 'BA', 'Boeing Co', '2022-11-04', 160.21),\n",
       " (2, 'INTC', 'Intel Corp', '2022-11-04', 27.96),\n",
       " (3, 'KO', 'Coca-Cola Co', '2022-11-04', 59.49),\n",
       " (4, 'NKE', 'Nike Inc', '2022-11-04', 97.32),\n",
       " (5, 'AAPL', 'Apple Inc', '2022-10-04', 145.03),\n",
       " (6, 'BA', 'Boeing Co', '2022-10-04', 129.4),\n",
       " (7, 'INTC', 'Intel Corp', '2022-10-04', 27.425),\n",
       " (8, 'KO', 'Coca-Cola Co', '2022-10-04', 56.95),\n",
       " (9, 'NKE', 'Nike Inc', '2022-10-04', 87.7),\n",
       " (10, 'AAPL', 'Apple Inc', '2022-09-20', 153.4),\n",
       " (11, 'BA', 'Boeing Co', '2022-09-20', 145.26),\n",
       " (12, 'INTC', 'Intel Corp', '2022-09-20', 29.065),\n",
       " (13, 'KO', 'Coca-Cola Co', '2022-09-20', 59.68),\n",
       " (14, 'NKE', 'Nike Inc', '2022-09-20', 103.82),\n",
       " (15, 'AAPL', 'Apple Inc', '2022-09-02', 159.75),\n",
       " (16, 'BA', 'Boeing Co', '2022-09-02', 155.19),\n",
       " (17, 'INTC', 'Intel Corp', '2022-09-02', 32.21),\n",
       " (18, 'KO', 'Coca-Cola Co', '2022-09-02', 62.39),\n",
       " (19, 'NKE', 'Nike Inc', '2022-09-02', 107.46),\n",
       " (20, 'AAPL', 'Apple Inc', '2022-08-22', 169.69),\n",
       " (21, 'BA', 'Boeing Co', '2022-08-22', 159.4),\n",
       " (22, 'INTC', 'Intel Corp', '2022-08-22', 35.0),\n",
       " (23, 'KO', 'Coca-Cola Co', '2022-08-22', 64.84),\n",
       " (24, 'NKE', 'Nike Inc', '2022-08-22', 111.02),\n",
       " (25, 'AAPL', 'Apple Inc', '2022-08-08', 166.37),\n",
       " (26, 'BA', 'Boeing Co', '2022-08-08', 166.41),\n",
       " (27, 'INTC', 'Intel Corp', '2022-08-08', 35.36),\n",
       " (28, 'KO', 'Coca-Cola Co', '2022-08-08', 63.5),\n",
       " (29, 'NKE', 'Nike Inc', '2022-08-08', 114.0),\n",
       " (31, 'AAPL', 'Apple Inc', '2022-11-05', 138.38),\n",
       " (32, 'BA', 'Boeing Co', '2022 11 05', 160.01),\n",
       " (33, 'NKE', 'Nike Inc', '2022 11 05', 95.79),\n",
       " (34, 'KO', 'Coca-Cola Co', '2022 11 05', 59.26),\n",
       " (35, 'INTC', 'Intel Corp', '2022 11 05', 28.2)]"
      ]
     },
     "execution_count": 170,
     "metadata": {},
     "output_type": "execute_result"
    }
   ],
   "source": [
    "cursor.execute ('''SELECT *\n",
    "FROM stocks;''').fetchall()"
   ]
  },
  {
   "cell_type": "code",
   "execution_count": 6,
   "id": "8899c7e6",
   "metadata": {},
   "outputs": [
    {
     "data": {
      "text/plain": [
       "('2022 11 04',)"
      ]
     },
     "execution_count": 6,
     "metadata": {},
     "output_type": "execute_result"
    }
   ],
   "source": [
    "# close connection and cursor, commit changes\n",
    "cursor.close()\n",
    "connection.commit()\n",
    "connection.close()"
   ]
  }
 ],
 "metadata": {
  "kernelspec": {
   "display_name": "Python 3 (ipykernel)",
   "language": "python",
   "name": "python3"
  },
  "language_info": {
   "codemirror_mode": {
    "name": "ipython",
    "version": 3
   },
   "file_extension": ".py",
   "mimetype": "text/x-python",
   "name": "python",
   "nbconvert_exporter": "python",
   "pygments_lexer": "ipython3",
   "version": "3.9.7"
  }
 },
 "nbformat": 4,
 "nbformat_minor": 5
}
