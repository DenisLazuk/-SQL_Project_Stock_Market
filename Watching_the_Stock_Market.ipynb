{
 "cells": [
  {
   "cell_type": "code",
   "execution_count": 8,
   "id": "873afa39",
   "metadata": {},
   "outputs": [],
   "source": [
    "# import necessary libriaries\n",
    "import sqlite3\n",
    "import csv\n",
    "import pandas as pd"
   ]
  },
  {
   "cell_type": "code",
   "execution_count": 9,
   "id": "8b5c246d",
   "metadata": {},
   "outputs": [
    {
     "name": "stdout",
     "output_type": "stream",
     "text": [
      "   symbol          name          datetime    price\n",
      "0    AAPL     Apple Inc  04.11.2022 17:06  136.510\n",
      "1      BA     Boeing Co  04.11.2022 17:06  160.210\n",
      "2    INTC    Intel Corp  04.11.2022 17:06   27.960\n",
      "3      KO  Coca-Cola Co  04.11.2022 17:06   59.490\n",
      "4     NKE      Nike Inc  04.11.2022 17:06   97.320\n",
      "5    AAPL     Apple Inc   04.10.2022 8:00  145.030\n",
      "6      BA     Boeing Co   04.10.2022 8:00  129.400\n",
      "7    INTC    Intel Corp   04.10.2022 8:00   27.425\n",
      "8      KO  Coca-Cola Co   04.10.2022 8:00   56.950\n",
      "9     NKE      Nike Inc   04.10.2022 8:00   87.700\n",
      "10   AAPL     Apple Inc   20.09.2022 8:00  153.400\n",
      "11     BA     Boeing Co   20.09.2022 8:00  145.260\n",
      "12   INTC    Intel Corp   20.09.2022 8:00   29.065\n",
      "13     KO  Coca-Cola Co   20.09.2022 8:00   59.680\n",
      "14    NKE      Nike Inc   20.09.2022 8:00  103.820\n",
      "15   AAPL     Apple Inc   02.09.2022 8:00  159.750\n",
      "16     BA     Boeing Co   02.09.2022 8:00  155.190\n",
      "17   INTC    Intel Corp   02.09.2022 8:00   32.210\n",
      "18     KO  Coca-Cola Co   02.09.2022 8:00   62.390\n",
      "19    NKE      Nike Inc   02.09.2022 8:00  107.460\n",
      "20   AAPL     Apple Inc   22.08.2022 8:00  169.690\n",
      "21     BA     Boeing Co   22.08.2022 8:00  159.400\n",
      "22   INTC    Intel Corp   22.08.2022 8:00   35.000\n",
      "23     KO  Coca-Cola Co   22.08.2022 8:00   64.840\n",
      "24    NKE      Nike Inc   22.08.2022 8:00  111.020\n",
      "25   AAPL     Apple Inc   08.08.2022 8:00  166.370\n",
      "26     BA     Boeing Co   08.08.2022 8:00  166.410\n",
      "27   INTC    Intel Corp   08.08.2022 8:00   35.360\n",
      "28     KO  Coca-Cola Co   08.08.2022 8:00   63.500\n",
      "29    NKE      Nike Inc   08.08.2022 8:00  114.000\n"
     ]
    }
   ],
   "source": [
    "# import dataset from csv\n",
    "data = pd.read_csv('data.csv', delimiter=';')\n",
    "print(data)"
   ]
  },
  {
   "cell_type": "code",
   "execution_count": 3,
   "id": "68728c11",
   "metadata": {},
   "outputs": [],
   "source": [
    "# establish connection and cursor object\n",
    "connection = sqlite3.connect(\"stocks.db\")\n",
    "cursor = connection.cursor()"
   ]
  },
  {
   "cell_type": "code",
   "execution_count": 4,
   "id": "ff347f05",
   "metadata": {},
   "outputs": [
    {
     "ename": "OperationalError",
     "evalue": "table stocks already exists",
     "output_type": "error",
     "traceback": [
      "\u001b[1;31m---------------------------------------------------------------------------\u001b[0m",
      "\u001b[1;31mOperationalError\u001b[0m                          Traceback (most recent call last)",
      "\u001b[1;32m~\\AppData\\Local\\Temp/ipykernel_20344/2627048792.py\u001b[0m in \u001b[0;36m<module>\u001b[1;34m\u001b[0m\n\u001b[0;32m      1\u001b[0m \u001b[1;31m# create empty table\u001b[0m\u001b[1;33m\u001b[0m\u001b[1;33m\u001b[0m\u001b[0m\n\u001b[1;32m----> 2\u001b[1;33m cursor.execute ('''CREATE TABLE stocks (symbol TEXT UNIQUE,\n\u001b[0m\u001b[0;32m      3\u001b[0m \u001b[0mname\u001b[0m \u001b[0mTEXT\u001b[0m \u001b[0mUNIQUE\u001b[0m\u001b[1;33m,\u001b[0m\u001b[1;33m\u001b[0m\u001b[1;33m\u001b[0m\u001b[0m\n\u001b[0;32m      4\u001b[0m \u001b[0mdatetime\u001b[0m \u001b[0mTEXT\u001b[0m\u001b[1;33m,\u001b[0m\u001b[1;33m\u001b[0m\u001b[1;33m\u001b[0m\u001b[0m\n\u001b[0;32m      5\u001b[0m price INTEGER);''');\n",
      "\u001b[1;31mOperationalError\u001b[0m: table stocks already exists"
     ]
    }
   ],
   "source": [
    "# create empty table\n",
    "cursor.execute ('''CREATE TABLE stocks (symbol TEXT UNIQUE,\n",
    "name TEXT UNIQUE, \n",
    "datetime TEXT, \n",
    "price INTEGER);''');"
   ]
  },
  {
   "cell_type": "code",
   "execution_count": 11,
   "id": "81ee6c38",
   "metadata": {},
   "outputs": [],
   "source": [
    "# import dataset to database 'users' \n",
    "data.to_sql('stocks', connection, if_exists='replace')"
   ]
  },
  {
   "cell_type": "code",
   "execution_count": 12,
   "id": "de906069",
   "metadata": {
    "scrolled": true
   },
   "outputs": [
    {
     "data": {
      "text/plain": [
       "[(0, 'AAPL', 'Apple Inc', '04.11.2022 17:06', 136.51),\n",
       " (1, 'BA', 'Boeing Co', '04.11.2022 17:06', 160.21),\n",
       " (2, 'INTC', 'Intel Corp', '04.11.2022 17:06', 27.96),\n",
       " (3, 'KO', 'Coca-Cola Co', '04.11.2022 17:06', 59.49),\n",
       " (4, 'NKE', 'Nike Inc', '04.11.2022 17:06', 97.32),\n",
       " (5, 'AAPL', 'Apple Inc', '04.10.2022 8:00', 145.03),\n",
       " (6, 'BA', 'Boeing Co', '04.10.2022 8:00', 129.4),\n",
       " (7, 'INTC', 'Intel Corp', '04.10.2022 8:00', 27.425),\n",
       " (8, 'KO', 'Coca-Cola Co', '04.10.2022 8:00', 56.95),\n",
       " (9, 'NKE', 'Nike Inc', '04.10.2022 8:00', 87.7),\n",
       " (10, 'AAPL', 'Apple Inc', '20.09.2022 8:00', 153.4),\n",
       " (11, 'BA', 'Boeing Co', '20.09.2022 8:00', 145.26),\n",
       " (12, 'INTC', 'Intel Corp', '20.09.2022 8:00', 29.065),\n",
       " (13, 'KO', 'Coca-Cola Co', '20.09.2022 8:00', 59.68),\n",
       " (14, 'NKE', 'Nike Inc', '20.09.2022 8:00', 103.82),\n",
       " (15, 'AAPL', 'Apple Inc', '02.09.2022 8:00', 159.75),\n",
       " (16, 'BA', 'Boeing Co', '02.09.2022 8:00', 155.19),\n",
       " (17, 'INTC', 'Intel Corp', '02.09.2022 8:00', 32.21),\n",
       " (18, 'KO', 'Coca-Cola Co', '02.09.2022 8:00', 62.39),\n",
       " (19, 'NKE', 'Nike Inc', '02.09.2022 8:00', 107.46),\n",
       " (20, 'AAPL', 'Apple Inc', '22.08.2022 8:00', 169.69),\n",
       " (21, 'BA', 'Boeing Co', '22.08.2022 8:00', 159.4),\n",
       " (22, 'INTC', 'Intel Corp', '22.08.2022 8:00', 35.0),\n",
       " (23, 'KO', 'Coca-Cola Co', '22.08.2022 8:00', 64.84),\n",
       " (24, 'NKE', 'Nike Inc', '22.08.2022 8:00', 111.02),\n",
       " (25, 'AAPL', 'Apple Inc', '08.08.2022 8:00', 166.37),\n",
       " (26, 'BA', 'Boeing Co', '08.08.2022 8:00', 166.41),\n",
       " (27, 'INTC', 'Intel Corp', '08.08.2022 8:00', 35.36),\n",
       " (28, 'KO', 'Coca-Cola Co', '08.08.2022 8:00', 63.5),\n",
       " (29, 'NKE', 'Nike Inc', '08.08.2022 8:00', 114.0)]"
      ]
     },
     "execution_count": 12,
     "metadata": {},
     "output_type": "execute_result"
    }
   ],
   "source": [
    "cursor.execute ('''SELECT * FROM stocks;''').fetchall()"
   ]
  },
  {
   "cell_type": "code",
   "execution_count": 13,
   "id": "0a60a06a",
   "metadata": {},
   "outputs": [
    {
     "data": {
      "text/plain": [
       "[('AAPL',), ('BA',), ('INTC',), ('KO',), ('NKE',)]"
      ]
     },
     "execution_count": 13,
     "metadata": {},
     "output_type": "execute_result"
    }
   ],
   "source": [
    "# 1. What are the distinct stocks in the table?\n",
    "cursor.execute ('''SELECT DISTINCT (symbol) FROM stocks;''').fetchall()"
   ]
  },
  {
   "cell_type": "code",
   "execution_count": 18,
   "id": "fbbf3bab",
   "metadata": {},
   "outputs": [
    {
     "data": {
      "text/plain": [
       "[(0, 'AAPL', 'Apple Inc', '04.11.2022 17:06', 136.51),\n",
       " (5, 'AAPL', 'Apple Inc', '04.10.2022 8:00', 145.03),\n",
       " (10, 'AAPL', 'Apple Inc', '20.09.2022 8:00', 153.4),\n",
       " (15, 'AAPL', 'Apple Inc', '02.09.2022 8:00', 159.75),\n",
       " (20, 'AAPL', 'Apple Inc', '22.08.2022 8:00', 169.69),\n",
       " (25, 'AAPL', 'Apple Inc', '08.08.2022 8:00', 166.37)]"
      ]
     },
     "execution_count": 18,
     "metadata": {},
     "output_type": "execute_result"
    }
   ],
   "source": [
    "# 2. Query all data for a single stock. Do you notice any overall trends?\n",
    "cursor.execute ('''SELECT * \n",
    "    FROM stocks\n",
    "    WHERE symbol IS 'AAPL';''').fetchall()"
   ]
  },
  {
   "cell_type": "code",
   "execution_count": 26,
   "id": "85ffc59f",
   "metadata": {},
   "outputs": [
    {
     "data": {
      "text/plain": [
       "[(0, 'AAPL', 'Apple Inc', '04.11.2022 17:06', 136.51),\n",
       " (1, 'BA', 'Boeing Co', '04.11.2022 17:06', 160.21),\n",
       " (5, 'AAPL', 'Apple Inc', '04.10.2022 8:00', 145.03),\n",
       " (6, 'BA', 'Boeing Co', '04.10.2022 8:00', 129.4),\n",
       " (10, 'AAPL', 'Apple Inc', '20.09.2022 8:00', 153.4),\n",
       " (11, 'BA', 'Boeing Co', '20.09.2022 8:00', 145.26),\n",
       " (14, 'NKE', 'Nike Inc', '20.09.2022 8:00', 103.82),\n",
       " (15, 'AAPL', 'Apple Inc', '02.09.2022 8:00', 159.75),\n",
       " (16, 'BA', 'Boeing Co', '02.09.2022 8:00', 155.19),\n",
       " (19, 'NKE', 'Nike Inc', '02.09.2022 8:00', 107.46),\n",
       " (20, 'AAPL', 'Apple Inc', '22.08.2022 8:00', 169.69),\n",
       " (21, 'BA', 'Boeing Co', '22.08.2022 8:00', 159.4),\n",
       " (24, 'NKE', 'Nike Inc', '22.08.2022 8:00', 111.02),\n",
       " (25, 'AAPL', 'Apple Inc', '08.08.2022 8:00', 166.37),\n",
       " (26, 'BA', 'Boeing Co', '08.08.2022 8:00', 166.41),\n",
       " (29, 'NKE', 'Nike Inc', '08.08.2022 8:00', 114.0)]"
      ]
     },
     "execution_count": 26,
     "metadata": {},
     "output_type": "execute_result"
    }
   ],
   "source": [
    "# 3. Which rows have a price above 100? \n",
    "cursor.execute ('''SELECT * \n",
    "    FROM stocks\n",
    "    WHERE price > 100;''').fetchall()"
   ]
  },
  {
   "cell_type": "code",
   "execution_count": 27,
   "id": "98528b07",
   "metadata": {},
   "outputs": [
    {
     "data": {
      "text/plain": [
       "[(17, 'INTC', 'Intel Corp', '02.09.2022 8:00', 32.21),\n",
       " (22, 'INTC', 'Intel Corp', '22.08.2022 8:00', 35.0),\n",
       " (27, 'INTC', 'Intel Corp', '08.08.2022 8:00', 35.36)]"
      ]
     },
     "execution_count": 27,
     "metadata": {},
     "output_type": "execute_result"
    }
   ],
   "source": [
    "# 4. And how about between 30 to 50?\n",
    "cursor.execute ('''SELECT * \n",
    "    FROM stocks\n",
    "    WHERE price BETWEEN 30 AND 50;''').fetchall()"
   ]
  },
  {
   "cell_type": "code",
   "execution_count": 29,
   "id": "8d05248c",
   "metadata": {},
   "outputs": [
    {
     "data": {
      "text/plain": [
       "[(20, 'AAPL', 'Apple Inc', '22.08.2022 8:00', 169.69),\n",
       " (26, 'BA', 'Boeing Co', '08.08.2022 8:00', 166.41),\n",
       " (25, 'AAPL', 'Apple Inc', '08.08.2022 8:00', 166.37),\n",
       " (1, 'BA', 'Boeing Co', '04.11.2022 17:06', 160.21),\n",
       " (15, 'AAPL', 'Apple Inc', '02.09.2022 8:00', 159.75),\n",
       " (21, 'BA', 'Boeing Co', '22.08.2022 8:00', 159.4),\n",
       " (16, 'BA', 'Boeing Co', '02.09.2022 8:00', 155.19),\n",
       " (10, 'AAPL', 'Apple Inc', '20.09.2022 8:00', 153.4),\n",
       " (11, 'BA', 'Boeing Co', '20.09.2022 8:00', 145.26),\n",
       " (5, 'AAPL', 'Apple Inc', '04.10.2022 8:00', 145.03),\n",
       " (0, 'AAPL', 'Apple Inc', '04.11.2022 17:06', 136.51),\n",
       " (6, 'BA', 'Boeing Co', '04.10.2022 8:00', 129.4),\n",
       " (29, 'NKE', 'Nike Inc', '08.08.2022 8:00', 114.0),\n",
       " (24, 'NKE', 'Nike Inc', '22.08.2022 8:00', 111.02),\n",
       " (19, 'NKE', 'Nike Inc', '02.09.2022 8:00', 107.46),\n",
       " (14, 'NKE', 'Nike Inc', '20.09.2022 8:00', 103.82),\n",
       " (4, 'NKE', 'Nike Inc', '04.11.2022 17:06', 97.32),\n",
       " (9, 'NKE', 'Nike Inc', '04.10.2022 8:00', 87.7),\n",
       " (23, 'KO', 'Coca-Cola Co', '22.08.2022 8:00', 64.84),\n",
       " (28, 'KO', 'Coca-Cola Co', '08.08.2022 8:00', 63.5),\n",
       " (18, 'KO', 'Coca-Cola Co', '02.09.2022 8:00', 62.39),\n",
       " (13, 'KO', 'Coca-Cola Co', '20.09.2022 8:00', 59.68),\n",
       " (3, 'KO', 'Coca-Cola Co', '04.11.2022 17:06', 59.49),\n",
       " (8, 'KO', 'Coca-Cola Co', '04.10.2022 8:00', 56.95),\n",
       " (27, 'INTC', 'Intel Corp', '08.08.2022 8:00', 35.36),\n",
       " (22, 'INTC', 'Intel Corp', '22.08.2022 8:00', 35.0),\n",
       " (17, 'INTC', 'Intel Corp', '02.09.2022 8:00', 32.21),\n",
       " (12, 'INTC', 'Intel Corp', '20.09.2022 8:00', 29.065),\n",
       " (2, 'INTC', 'Intel Corp', '04.11.2022 17:06', 27.96),\n",
       " (7, 'INTC', 'Intel Corp', '04.10.2022 8:00', 27.425)]"
      ]
     },
     "execution_count": 29,
     "metadata": {},
     "output_type": "execute_result"
    }
   ],
   "source": [
    "# 5. Sort the table by price. What are the minimum and maximum prices?\n",
    "cursor.execute ('''SELECT * \n",
    "    FROM stocks\n",
    "    ORDER BY price DESC;''').fetchall()"
   ]
  },
  {
   "cell_type": "code",
   "execution_count": 36,
   "id": "eb8d6c14",
   "metadata": {},
   "outputs": [
    {
     "data": {
      "text/plain": [
       "[('AAPL', 'Apple Inc', '22.08.2022 8:00', 169.69)]"
      ]
     },
     "execution_count": 36,
     "metadata": {},
     "output_type": "execute_result"
    }
   ],
   "source": [
    "# 6. Explore using aggregate functions to look at key statistics about the data.\n",
    "# What is the maximum price? \n",
    "cursor.execute ('''SELECT symbol, name, datetime, MAX (price) \n",
    "    FROM stocks;''').fetchall()\n"
   ]
  },
  {
   "cell_type": "code",
   "execution_count": 38,
   "id": "8aa1ac82",
   "metadata": {},
   "outputs": [
    {
     "data": {
      "text/plain": [
       "[('INTC', 'Intel Corp', '04.10.2022 8:00', 27.425)]"
      ]
     },
     "execution_count": 38,
     "metadata": {},
     "output_type": "execute_result"
    }
   ],
   "source": [
    "# 7. # What is the minimum price? \n",
    "cursor.execute ('''SELECT symbol, name, datetime, MIN (price) \n",
    "    FROM stocks;''').fetchall()"
   ]
  },
  {
   "cell_type": "code",
   "execution_count": 40,
   "id": "3e0de8ed",
   "metadata": {},
   "outputs": [
    {
     "data": {
      "text/plain": [
       "[(100.72700000000002,)]"
      ]
     },
     "execution_count": 40,
     "metadata": {},
     "output_type": "execute_result"
    }
   ],
   "source": [
    "# 8. # What is the average price? \n",
    "cursor.execute ('''SELECT symbol, name, datetime, AVG (price) \n",
    "    FROM stocks;''').fetchall()"
   ]
  },
  {
   "cell_type": "code",
   "execution_count": 6,
   "id": "8899c7e6",
   "metadata": {},
   "outputs": [
    {
     "data": {
      "text/plain": [
       "('2022 11 04',)"
      ]
     },
     "execution_count": 6,
     "metadata": {},
     "output_type": "execute_result"
    }
   ],
   "source": [
    "# close connection and cursor, commit changes\n",
    "cursor.close()\n",
    "connection.commit()\n",
    "connection.close()"
   ]
  }
 ],
 "metadata": {
  "kernelspec": {
   "display_name": "Python 3 (ipykernel)",
   "language": "python",
   "name": "python3"
  },
  "language_info": {
   "codemirror_mode": {
    "name": "ipython",
    "version": 3
   },
   "file_extension": ".py",
   "mimetype": "text/x-python",
   "name": "python",
   "nbconvert_exporter": "python",
   "pygments_lexer": "ipython3",
   "version": "3.9.7"
  }
 },
 "nbformat": 4,
 "nbformat_minor": 5
}
