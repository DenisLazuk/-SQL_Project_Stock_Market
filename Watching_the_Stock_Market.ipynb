{
 "cells": [
  {
   "cell_type": "code",
   "execution_count": 406,
   "id": "873afa39",
   "metadata": {},
   "outputs": [],
   "source": [
    "# import necessary libriaries\n",
    "import sqlite3\n",
    "import csv\n",
    "import pandas as pd"
   ]
  },
  {
   "cell_type": "code",
   "execution_count": 407,
   "id": "8b5c246d",
   "metadata": {},
   "outputs": [
    {
     "name": "stdout",
     "output_type": "stream",
     "text": [
      "    id symbol          name    datetime    price\n",
      "0    1   AAPL     Apple Inc  2022-11-04  136.510\n",
      "1    2     BA     Boeing Co  2022-11-04  160.210\n",
      "2    3   INTC    Intel Corp  2022-11-04   27.960\n",
      "3    4     KO  Coca-Cola Co  2022-11-04   59.490\n",
      "4    5    NKE      Nike Inc  2022-11-04   97.320\n",
      "5    6   AAPL     Apple Inc  2022-10-04  145.030\n",
      "6    7     BA     Boeing Co  2022-10-04  129.400\n",
      "7    8   INTC    Intel Corp  2022-10-04   27.425\n",
      "8    9     KO  Coca-Cola Co  2022-10-04   56.950\n",
      "9   10    NKE      Nike Inc  2022-10-04   87.700\n",
      "10  11   AAPL     Apple Inc  2022-09-20  153.400\n",
      "11  12     BA     Boeing Co  2022-09-20  145.260\n",
      "12  13   INTC    Intel Corp  2022-09-20   29.065\n",
      "13  14     KO  Coca-Cola Co  2022-09-20   59.680\n",
      "14  15    NKE      Nike Inc  2022-09-20  103.820\n",
      "15  16   AAPL     Apple Inc  2022-09-02  159.750\n",
      "16  17     BA     Boeing Co  2022-09-02  155.190\n",
      "17  18   INTC    Intel Corp  2022-09-02   32.210\n",
      "18  19     KO  Coca-Cola Co  2022-09-02   62.390\n",
      "19  20    NKE      Nike Inc  2022-09-02  107.460\n",
      "20  21   AAPL     Apple Inc  2022-08-22  169.690\n",
      "21  22     BA     Boeing Co  2022-08-22  159.400\n",
      "22  23   INTC    Intel Corp  2022-08-22   35.000\n",
      "23  24     KO  Coca-Cola Co  2022-08-22   64.840\n",
      "24  25    NKE      Nike Inc  2022-08-22  111.020\n",
      "25  26   AAPL     Apple Inc  2022-08-08  166.370\n",
      "26  27     BA     Boeing Co  2022-08-08  166.410\n",
      "27  28   INTC    Intel Corp  2022-08-08   35.360\n",
      "28  29     KO  Coca-Cola Co  2022-08-08   63.500\n",
      "29  30    NKE      Nike Inc  2022-08-08  114.000\n"
     ]
    }
   ],
   "source": [
    "# import dataset from csv\n",
    "data = pd.read_csv('data.csv', delimiter=';')\n",
    "print(data)"
   ]
  },
  {
   "cell_type": "code",
   "execution_count": 408,
   "id": "68728c11",
   "metadata": {},
   "outputs": [],
   "source": [
    "# establish connection and cursor object\n",
    "connection = sqlite3.connect(\"stocks.db\")\n",
    "cursor = connection.cursor()"
   ]
  },
  {
   "cell_type": "code",
   "execution_count": 409,
   "id": "ff347f05",
   "metadata": {},
   "outputs": [],
   "source": [
    "# create empty table\n",
    "cursor.execute ('''CREATE TABLE stocks (id PRIMARY KEY,\n",
    "symbol TEXT UNIQUE,\n",
    "name TEXT UNIQUE, \n",
    "datetime TEXT, \n",
    "price INTEGER);''');"
   ]
  },
  {
   "cell_type": "code",
   "execution_count": 410,
   "id": "81ee6c38",
   "metadata": {},
   "outputs": [],
   "source": [
    "# import dataset to database 'users' \n",
    "data.to_sql('stocks', connection, if_exists='replace')"
   ]
  },
  {
   "cell_type": "code",
   "execution_count": 411,
   "id": "de906069",
   "metadata": {
    "scrolled": true
   },
   "outputs": [
    {
     "data": {
      "text/plain": [
       "[(0, 1, 'AAPL', 'Apple Inc', '2022-11-04', 136.51),\n",
       " (1, 2, 'BA', 'Boeing Co', '2022-11-04', 160.21),\n",
       " (2, 3, 'INTC', 'Intel Corp', '2022-11-04', 27.96),\n",
       " (3, 4, 'KO', 'Coca-Cola Co', '2022-11-04', 59.49),\n",
       " (4, 5, 'NKE', 'Nike Inc', '2022-11-04', 97.32),\n",
       " (5, 6, 'AAPL', 'Apple Inc', '2022-10-04', 145.03),\n",
       " (6, 7, 'BA', 'Boeing Co', '2022-10-04', 129.4),\n",
       " (7, 8, 'INTC', 'Intel Corp', '2022-10-04', 27.425),\n",
       " (8, 9, 'KO', 'Coca-Cola Co', '2022-10-04', 56.95),\n",
       " (9, 10, 'NKE', 'Nike Inc', '2022-10-04', 87.7),\n",
       " (10, 11, 'AAPL', 'Apple Inc', '2022-09-20', 153.4),\n",
       " (11, 12, 'BA', 'Boeing Co', '2022-09-20', 145.26),\n",
       " (12, 13, 'INTC', 'Intel Corp', '2022-09-20', 29.065),\n",
       " (13, 14, 'KO', 'Coca-Cola Co', '2022-09-20', 59.68),\n",
       " (14, 15, 'NKE', 'Nike Inc', '2022-09-20', 103.82),\n",
       " (15, 16, 'AAPL', 'Apple Inc', '2022-09-02', 159.75),\n",
       " (16, 17, 'BA', 'Boeing Co', '2022-09-02', 155.19),\n",
       " (17, 18, 'INTC', 'Intel Corp', '2022-09-02', 32.21),\n",
       " (18, 19, 'KO', 'Coca-Cola Co', '2022-09-02', 62.39),\n",
       " (19, 20, 'NKE', 'Nike Inc', '2022-09-02', 107.46),\n",
       " (20, 21, 'AAPL', 'Apple Inc', '2022-08-22', 169.69),\n",
       " (21, 22, 'BA', 'Boeing Co', '2022-08-22', 159.4),\n",
       " (22, 23, 'INTC', 'Intel Corp', '2022-08-22', 35.0),\n",
       " (23, 24, 'KO', 'Coca-Cola Co', '2022-08-22', 64.84),\n",
       " (24, 25, 'NKE', 'Nike Inc', '2022-08-22', 111.02),\n",
       " (25, 26, 'AAPL', 'Apple Inc', '2022-08-08', 166.37),\n",
       " (26, 27, 'BA', 'Boeing Co', '2022-08-08', 166.41),\n",
       " (27, 28, 'INTC', 'Intel Corp', '2022-08-08', 35.36),\n",
       " (28, 29, 'KO', 'Coca-Cola Co', '2022-08-08', 63.5),\n",
       " (29, 30, 'NKE', 'Nike Inc', '2022-08-08', 114.0)]"
      ]
     },
     "execution_count": 411,
     "metadata": {},
     "output_type": "execute_result"
    }
   ],
   "source": [
    "# check the result\n",
    "cursor.execute ('''SELECT * FROM stocks;''').fetchall()"
   ]
  },
  {
   "cell_type": "code",
   "execution_count": 413,
   "id": "0a60a06a",
   "metadata": {},
   "outputs": [
    {
     "data": {
      "text/plain": [
       "[('AAPL',), ('BA',), ('INTC',), ('KO',), ('NKE',)]"
      ]
     },
     "execution_count": 413,
     "metadata": {},
     "output_type": "execute_result"
    }
   ],
   "source": [
    "# ANALYSYS\n",
    "# 1. What are the distinct stocks in the table?\n",
    "cursor.execute ('''SELECT DISTINCT (symbol) FROM stocks;''').fetchall()"
   ]
  },
  {
   "cell_type": "code",
   "execution_count": 414,
   "id": "fbbf3bab",
   "metadata": {},
   "outputs": [
    {
     "data": {
      "text/plain": [
       "[(0, 1, 'AAPL', 'Apple Inc', '2022-11-04', 136.51),\n",
       " (5, 6, 'AAPL', 'Apple Inc', '2022-10-04', 145.03),\n",
       " (10, 11, 'AAPL', 'Apple Inc', '2022-09-20', 153.4),\n",
       " (15, 16, 'AAPL', 'Apple Inc', '2022-09-02', 159.75),\n",
       " (20, 21, 'AAPL', 'Apple Inc', '2022-08-22', 169.69),\n",
       " (25, 26, 'AAPL', 'Apple Inc', '2022-08-08', 166.37)]"
      ]
     },
     "execution_count": 414,
     "metadata": {},
     "output_type": "execute_result"
    }
   ],
   "source": [
    "# 2. Query all data for a single stock. Do you notice any overall trends?\n",
    "cursor.execute ('''SELECT * \n",
    "    FROM stocks\n",
    "    WHERE symbol IS 'AAPL';''').fetchall()"
   ]
  },
  {
   "cell_type": "code",
   "execution_count": 415,
   "id": "85ffc59f",
   "metadata": {},
   "outputs": [
    {
     "data": {
      "text/plain": [
       "[(0, 1, 'AAPL', 'Apple Inc', '2022-11-04', 136.51),\n",
       " (1, 2, 'BA', 'Boeing Co', '2022-11-04', 160.21),\n",
       " (5, 6, 'AAPL', 'Apple Inc', '2022-10-04', 145.03),\n",
       " (6, 7, 'BA', 'Boeing Co', '2022-10-04', 129.4),\n",
       " (10, 11, 'AAPL', 'Apple Inc', '2022-09-20', 153.4),\n",
       " (11, 12, 'BA', 'Boeing Co', '2022-09-20', 145.26),\n",
       " (14, 15, 'NKE', 'Nike Inc', '2022-09-20', 103.82),\n",
       " (15, 16, 'AAPL', 'Apple Inc', '2022-09-02', 159.75),\n",
       " (16, 17, 'BA', 'Boeing Co', '2022-09-02', 155.19),\n",
       " (19, 20, 'NKE', 'Nike Inc', '2022-09-02', 107.46),\n",
       " (20, 21, 'AAPL', 'Apple Inc', '2022-08-22', 169.69),\n",
       " (21, 22, 'BA', 'Boeing Co', '2022-08-22', 159.4),\n",
       " (24, 25, 'NKE', 'Nike Inc', '2022-08-22', 111.02),\n",
       " (25, 26, 'AAPL', 'Apple Inc', '2022-08-08', 166.37),\n",
       " (26, 27, 'BA', 'Boeing Co', '2022-08-08', 166.41),\n",
       " (29, 30, 'NKE', 'Nike Inc', '2022-08-08', 114.0)]"
      ]
     },
     "execution_count": 415,
     "metadata": {},
     "output_type": "execute_result"
    }
   ],
   "source": [
    "# 3. Which rows have a price above 100? \n",
    "cursor.execute ('''SELECT * \n",
    "    FROM stocks\n",
    "    WHERE price > 100;''').fetchall()"
   ]
  },
  {
   "cell_type": "code",
   "execution_count": 416,
   "id": "98528b07",
   "metadata": {},
   "outputs": [
    {
     "data": {
      "text/plain": [
       "[(17, 18, 'INTC', 'Intel Corp', '2022-09-02', 32.21),\n",
       " (22, 23, 'INTC', 'Intel Corp', '2022-08-22', 35.0),\n",
       " (27, 28, 'INTC', 'Intel Corp', '2022-08-08', 35.36)]"
      ]
     },
     "execution_count": 416,
     "metadata": {},
     "output_type": "execute_result"
    }
   ],
   "source": [
    "# 4. And how about between 30 to 50?\n",
    "cursor.execute ('''SELECT * \n",
    "    FROM stocks\n",
    "    WHERE price BETWEEN 30 AND 50;''').fetchall()"
   ]
  },
  {
   "cell_type": "code",
   "execution_count": 417,
   "id": "8d05248c",
   "metadata": {},
   "outputs": [
    {
     "data": {
      "text/plain": [
       "[(20, 21, 'AAPL', 'Apple Inc', '2022-08-22', 169.69),\n",
       " (26, 27, 'BA', 'Boeing Co', '2022-08-08', 166.41),\n",
       " (25, 26, 'AAPL', 'Apple Inc', '2022-08-08', 166.37),\n",
       " (1, 2, 'BA', 'Boeing Co', '2022-11-04', 160.21),\n",
       " (15, 16, 'AAPL', 'Apple Inc', '2022-09-02', 159.75),\n",
       " (21, 22, 'BA', 'Boeing Co', '2022-08-22', 159.4),\n",
       " (16, 17, 'BA', 'Boeing Co', '2022-09-02', 155.19),\n",
       " (10, 11, 'AAPL', 'Apple Inc', '2022-09-20', 153.4),\n",
       " (11, 12, 'BA', 'Boeing Co', '2022-09-20', 145.26),\n",
       " (5, 6, 'AAPL', 'Apple Inc', '2022-10-04', 145.03),\n",
       " (0, 1, 'AAPL', 'Apple Inc', '2022-11-04', 136.51),\n",
       " (6, 7, 'BA', 'Boeing Co', '2022-10-04', 129.4),\n",
       " (29, 30, 'NKE', 'Nike Inc', '2022-08-08', 114.0),\n",
       " (24, 25, 'NKE', 'Nike Inc', '2022-08-22', 111.02),\n",
       " (19, 20, 'NKE', 'Nike Inc', '2022-09-02', 107.46),\n",
       " (14, 15, 'NKE', 'Nike Inc', '2022-09-20', 103.82),\n",
       " (4, 5, 'NKE', 'Nike Inc', '2022-11-04', 97.32),\n",
       " (9, 10, 'NKE', 'Nike Inc', '2022-10-04', 87.7),\n",
       " (23, 24, 'KO', 'Coca-Cola Co', '2022-08-22', 64.84),\n",
       " (28, 29, 'KO', 'Coca-Cola Co', '2022-08-08', 63.5),\n",
       " (18, 19, 'KO', 'Coca-Cola Co', '2022-09-02', 62.39),\n",
       " (13, 14, 'KO', 'Coca-Cola Co', '2022-09-20', 59.68),\n",
       " (3, 4, 'KO', 'Coca-Cola Co', '2022-11-04', 59.49),\n",
       " (8, 9, 'KO', 'Coca-Cola Co', '2022-10-04', 56.95),\n",
       " (27, 28, 'INTC', 'Intel Corp', '2022-08-08', 35.36),\n",
       " (22, 23, 'INTC', 'Intel Corp', '2022-08-22', 35.0),\n",
       " (17, 18, 'INTC', 'Intel Corp', '2022-09-02', 32.21),\n",
       " (12, 13, 'INTC', 'Intel Corp', '2022-09-20', 29.065),\n",
       " (2, 3, 'INTC', 'Intel Corp', '2022-11-04', 27.96),\n",
       " (7, 8, 'INTC', 'Intel Corp', '2022-10-04', 27.425)]"
      ]
     },
     "execution_count": 417,
     "metadata": {},
     "output_type": "execute_result"
    }
   ],
   "source": [
    "# 5. Sort the table by price. What are the minimum and maximum prices?\n",
    "cursor.execute ('''SELECT * \n",
    "    FROM stocks\n",
    "    ORDER BY price DESC;''').fetchall()"
   ]
  },
  {
   "cell_type": "code",
   "execution_count": 418,
   "id": "eb8d6c14",
   "metadata": {},
   "outputs": [
    {
     "data": {
      "text/plain": [
       "[('AAPL', 'Apple Inc', '2022-08-22', 169.69)]"
      ]
     },
     "execution_count": 418,
     "metadata": {},
     "output_type": "execute_result"
    }
   ],
   "source": [
    "# 6. Explore using aggregate functions to look at key statistics about the data.\n",
    "# What is the maximum price? \n",
    "cursor.execute ('''SELECT symbol, name, datetime, MAX (price) \n",
    "    FROM stocks;''').fetchall()\n"
   ]
  },
  {
   "cell_type": "code",
   "execution_count": 419,
   "id": "8aa1ac82",
   "metadata": {},
   "outputs": [
    {
     "data": {
      "text/plain": [
       "[('INTC', 'Intel Corp', '2022-10-04', 27.425)]"
      ]
     },
     "execution_count": 419,
     "metadata": {},
     "output_type": "execute_result"
    }
   ],
   "source": [
    "# 7. # What is the minimum price? \n",
    "cursor.execute ('''SELECT symbol, name, datetime, MIN (price) \n",
    "    FROM stocks;''').fetchall()"
   ]
  },
  {
   "cell_type": "code",
   "execution_count": 420,
   "id": "3e0de8ed",
   "metadata": {},
   "outputs": [
    {
     "data": {
      "text/plain": [
       "('AAPL', 'Apple Inc', '2022-11-04', 101.0)"
      ]
     },
     "execution_count": 420,
     "metadata": {},
     "output_type": "execute_result"
    }
   ],
   "source": [
    "# 8. # What is the average price? \n",
    "cursor.execute ('''SELECT symbol, name, datetime, ROUND(AVG (price),0) \n",
    "    FROM stocks;''').fetchone()"
   ]
  },
  {
   "cell_type": "code",
   "execution_count": 421,
   "id": "54c048c1",
   "metadata": {},
   "outputs": [
    {
     "data": {
      "text/plain": [
       "[('AAPL', 155.0), ('BA', 153.0), ('NKE', 104.0), ('KO', 61.0), ('INTC', 31.0)]"
      ]
     },
     "execution_count": 421,
     "metadata": {},
     "output_type": "execute_result"
    }
   ],
   "source": [
    "# 9. Group the data by stock. How do the stocks compare to each other?\n",
    "cursor.execute ('''SELECT symbol, ROUND(AVG (price),0) \n",
    "    FROM stocks\n",
    "    GROUP BY 1\n",
    "    ORDER BY 2 DESC;''').fetchall()"
   ]
  },
  {
   "cell_type": "code",
   "execution_count": 422,
   "id": "c0aa9fdf",
   "metadata": {},
   "outputs": [
    {
     "data": {
      "text/plain": [
       "[('08', 109.0, 10), ('09', 101.0, 10), ('10', 89.0, 5), ('11', 96.0, 5)]"
      ]
     },
     "execution_count": 422,
     "metadata": {},
     "output_type": "execute_result"
    }
   ],
   "source": [
    "# 10. Group the data by month. How do the months compare to each other?\n",
    "cursor.execute ('''SELECT strftime ('%m', datetime) AS 'Month',\n",
    "    ROUND (AVG (price), 0) AS 'Average Price',\n",
    "    COUNT (*) AS 'Number of Stocks'\n",
    "    FROM stocks\n",
    "    GROUP BY 1\n",
    "    ORDER BY 1;''').fetchall()"
   ]
  },
  {
   "cell_type": "code",
   "execution_count": 423,
   "id": "5d1d0f9a",
   "metadata": {},
   "outputs": [
    {
     "data": {
      "text/plain": [
       "(30,)"
      ]
     },
     "execution_count": 423,
     "metadata": {},
     "output_type": "execute_result"
    }
   ],
   "source": [
    "# 11. Insert data manually. First check the number of rows\n",
    "cursor.execute ('''SELECT COUNT (*)\n",
    "    FROM stocks;''').fetchone()"
   ]
  },
  {
   "cell_type": "code",
   "execution_count": 424,
   "id": "ceb18266",
   "metadata": {
    "scrolled": true
   },
   "outputs": [
    {
     "data": {
      "text/plain": [
       "<sqlite3.Cursor at 0x1eff1578260>"
      ]
     },
     "execution_count": 424,
     "metadata": {},
     "output_type": "execute_result"
    }
   ],
   "source": [
    "# Perform the insert\n",
    "cursor.execute ('''INSERT INTO stocks VALUES\n",
    "    (31, 31, 'AAPL','Apple Inc', strftime('%Y-%m-%d','now'), 138.38);''') "
   ]
  },
  {
   "cell_type": "code",
   "execution_count": 425,
   "id": "ed3fb673",
   "metadata": {},
   "outputs": [
    {
     "data": {
      "text/plain": [
       "<sqlite3.Cursor at 0x1eff1578260>"
      ]
     },
     "execution_count": 425,
     "metadata": {},
     "output_type": "execute_result"
    }
   ],
   "source": [
    "cursor.execute ('''INSERT INTO stocks VALUES\n",
    "    (32, 32, 'BA','Boeing Co', strftime('%Y-%m-%d','now'), 160.01);''') "
   ]
  },
  {
   "cell_type": "code",
   "execution_count": 426,
   "id": "a1ef610a",
   "metadata": {},
   "outputs": [
    {
     "data": {
      "text/plain": [
       "<sqlite3.Cursor at 0x1eff1578260>"
      ]
     },
     "execution_count": 426,
     "metadata": {},
     "output_type": "execute_result"
    }
   ],
   "source": [
    "cursor.execute ('''INSERT INTO stocks VALUES\n",
    "    (33,33, 'NKE','Nike Inc', strftime('%Y-%m-%d','now'), 95.79);''') "
   ]
  },
  {
   "cell_type": "code",
   "execution_count": 427,
   "id": "27854e1c",
   "metadata": {},
   "outputs": [
    {
     "data": {
      "text/plain": [
       "<sqlite3.Cursor at 0x1eff1578260>"
      ]
     },
     "execution_count": 427,
     "metadata": {},
     "output_type": "execute_result"
    }
   ],
   "source": [
    "cursor.execute ('''INSERT INTO stocks VALUES\n",
    "    (34,34, 'KO','Coca-Cola Co', strftime('%Y-%m-%d','now'), 59.26);''') "
   ]
  },
  {
   "cell_type": "code",
   "execution_count": 428,
   "id": "d141c460",
   "metadata": {},
   "outputs": [
    {
     "data": {
      "text/plain": [
       "<sqlite3.Cursor at 0x1eff1578260>"
      ]
     },
     "execution_count": 428,
     "metadata": {},
     "output_type": "execute_result"
    }
   ],
   "source": [
    "cursor.execute ('''INSERT INTO stocks VALUES\n",
    "    (35,35, 'INTC','Intel Corp', strftime('%Y-%m-%d','now'), 28.20);''') "
   ]
  },
  {
   "cell_type": "code",
   "execution_count": 429,
   "id": "08f8e54f",
   "metadata": {},
   "outputs": [
    {
     "data": {
      "text/plain": [
       "(35,)"
      ]
     },
     "execution_count": 429,
     "metadata": {},
     "output_type": "execute_result"
    }
   ],
   "source": [
    "# check the number of rows now\n",
    "cursor.execute ('''SELECT COUNT (*)\n",
    "    FROM stocks;''').fetchone()"
   ]
  },
  {
   "cell_type": "code",
   "execution_count": 431,
   "id": "c8cebbff",
   "metadata": {},
   "outputs": [
    {
     "data": {
      "text/plain": [
       "(100.1,)"
      ]
     },
     "execution_count": 431,
     "metadata": {},
     "output_type": "execute_result"
    }
   ],
   "source": [
    "# `12. Which of the rows have a price greater than the average of all prices in the dataset?\n",
    "# Let's find the average first\n",
    "cursor.execute ('''SELECT ROUND (AVG (price), 2)\n",
    "    FROM stocks;''').fetchone()"
   ]
  },
  {
   "cell_type": "code",
   "execution_count": 432,
   "id": "d0700e79",
   "metadata": {},
   "outputs": [
    {
     "data": {
      "text/plain": [
       "[(0, 1, 'AAPL', 'Apple Inc', '2022-11-04', 136.51),\n",
       " (1, 2, 'BA', 'Boeing Co', '2022-11-04', 160.21),\n",
       " (5, 6, 'AAPL', 'Apple Inc', '2022-10-04', 145.03),\n",
       " (6, 7, 'BA', 'Boeing Co', '2022-10-04', 129.4),\n",
       " (10, 11, 'AAPL', 'Apple Inc', '2022-09-20', 153.4),\n",
       " (11, 12, 'BA', 'Boeing Co', '2022-09-20', 145.26),\n",
       " (14, 15, 'NKE', 'Nike Inc', '2022-09-20', 103.82),\n",
       " (15, 16, 'AAPL', 'Apple Inc', '2022-09-02', 159.75),\n",
       " (16, 17, 'BA', 'Boeing Co', '2022-09-02', 155.19),\n",
       " (19, 20, 'NKE', 'Nike Inc', '2022-09-02', 107.46),\n",
       " (20, 21, 'AAPL', 'Apple Inc', '2022-08-22', 169.69),\n",
       " (21, 22, 'BA', 'Boeing Co', '2022-08-22', 159.4),\n",
       " (24, 25, 'NKE', 'Nike Inc', '2022-08-22', 111.02),\n",
       " (25, 26, 'AAPL', 'Apple Inc', '2022-08-08', 166.37),\n",
       " (26, 27, 'BA', 'Boeing Co', '2022-08-08', 166.41),\n",
       " (29, 30, 'NKE', 'Nike Inc', '2022-08-08', 114.0),\n",
       " (31, 31, 'AAPL', 'Apple Inc', '2022-11-05', 138.38),\n",
       " (32, 32, 'BA', 'Boeing Co', '2022-11-05', 160.01)]"
      ]
     },
     "execution_count": 432,
     "metadata": {},
     "output_type": "execute_result"
    }
   ],
   "source": [
    "# Find the rows which are greater than the average\n",
    "cursor.execute ('''SELECT *\n",
    "    FROM stocks\n",
    "    WHERE price > 100.1;''').fetchall()"
   ]
  },
  {
   "cell_type": "code",
   "execution_count": 433,
   "id": "ae65bd39",
   "metadata": {},
   "outputs": [
    {
     "data": {
      "text/plain": [
       "(18,)"
      ]
     },
     "execution_count": 433,
     "metadata": {},
     "output_type": "execute_result"
    }
   ],
   "source": [
    "# Additionally count thetotal number of such rows\n",
    "cursor.execute ('''SELECT COUNT (*)\n",
    "    FROM stocks\n",
    "    WHERE price > 100.1;''').fetchone()"
   ]
  },
  {
   "cell_type": "code",
   "execution_count": 434,
   "id": "6c03e34c",
   "metadata": {},
   "outputs": [
    {
     "data": {
      "text/plain": [
       "(104.0,)"
      ]
     },
     "execution_count": 434,
     "metadata": {},
     "output_type": "execute_result"
    }
   ],
   "source": [
    "# 13. Let's calculate the median price\n",
    "cursor.execute ('''SELECT ROUND (AVG(price),0)\n",
    "    FROM (SELECT price\n",
    "    FROM stocks\n",
    "    ORDER BY price\n",
    "    LIMIT 2 - (SELECT COUNT(*) FROM stocks) % 2\n",
    "    OFFSET (SELECT (COUNT(*) - 1) / 2\n",
    "    FROM stocks));''').fetchone()"
   ]
  },
  {
   "cell_type": "code",
   "execution_count": 435,
   "id": "d4b667a4",
   "metadata": {},
   "outputs": [
    {
     "data": {
      "text/plain": [
       "<sqlite3.Cursor at 0x1eff1578260>"
      ]
     },
     "execution_count": 435,
     "metadata": {},
     "output_type": "execute_result"
    }
   ],
   "source": [
    "# 14. Let’s refactor the data into 2 tables - stock_info to store general info about the stock itself \n",
    "#(ie. symbol, name) and stock_prices to store the collected data on price (ie. symbol, datetime, price).\n",
    "# First table\n",
    "cursor.execute ('''CREATE TABLE stock_info AS SELECT id, symbol, name \n",
    "    FROM stocks;''')"
   ]
  },
  {
   "cell_type": "code",
   "execution_count": 436,
   "id": "54150ed4",
   "metadata": {},
   "outputs": [
    {
     "data": {
      "text/plain": [
       "<sqlite3.Cursor at 0x1eff1578260>"
      ]
     },
     "execution_count": 436,
     "metadata": {},
     "output_type": "execute_result"
    }
   ],
   "source": [
    "# Second table\n",
    "cursor.execute ('''CREATE TABLE stock_prices AS SELECT id, datetime, price \n",
    "    FROM stocks;''')"
   ]
  },
  {
   "cell_type": "code",
   "execution_count": 437,
   "id": "c414ff36",
   "metadata": {},
   "outputs": [
    {
     "data": {
      "text/plain": [
       "<sqlite3.Cursor at 0x1eff1578260>"
      ]
     },
     "execution_count": 437,
     "metadata": {},
     "output_type": "execute_result"
    }
   ],
   "source": [
    "# 15. Create new table by joining the two tables above\n",
    "cursor.execute ('''CREATE TABLE new_stocks AS SELECT * \n",
    "    FROM stock_info\n",
    "    JOIN stock_prices\n",
    "        ON stock_info.id = stock_prices.id;''')"
   ]
  },
  {
   "cell_type": "code",
   "execution_count": 438,
   "id": "37e88215",
   "metadata": {},
   "outputs": [
    {
     "data": {
      "text/plain": [
       "<sqlite3.Cursor at 0x1eff1578260>"
      ]
     },
     "execution_count": 438,
     "metadata": {},
     "output_type": "execute_result"
    }
   ],
   "source": [
    "# 16. Update table by adding sector column to the table\n",
    "cursor.execute ('''CREATE TABLE final_stocks AS SELECT *,\n",
    "    CASE\n",
    "        WHEN symbol = 'KO' OR symbol = 'NKE' THEN 'RETL'\n",
    "        WHEN symbol = 'AAPL' OR symbol = 'INTC' THEN 'IT'\n",
    "        ELSE 'AERO'\n",
    "    END AS 'Sector'\n",
    "    FROM new_stocks;''')"
   ]
  },
  {
   "cell_type": "code",
   "execution_count": 439,
   "id": "954687ef",
   "metadata": {},
   "outputs": [
    {
     "data": {
      "text/plain": [
       "[(1, 'AAPL', 'Apple Inc', 1, '2022-11-04', 136.51, 'IT'),\n",
       " (2, 'BA', 'Boeing Co', 2, '2022-11-04', 160.21, 'AERO'),\n",
       " (3, 'INTC', 'Intel Corp', 3, '2022-11-04', 27.96, 'IT'),\n",
       " (4, 'KO', 'Coca-Cola Co', 4, '2022-11-04', 59.49, 'RETL'),\n",
       " (5, 'NKE', 'Nike Inc', 5, '2022-11-04', 97.32, 'RETL'),\n",
       " (6, 'AAPL', 'Apple Inc', 6, '2022-10-04', 145.03, 'IT'),\n",
       " (7, 'BA', 'Boeing Co', 7, '2022-10-04', 129.4, 'AERO'),\n",
       " (8, 'INTC', 'Intel Corp', 8, '2022-10-04', 27.425, 'IT'),\n",
       " (9, 'KO', 'Coca-Cola Co', 9, '2022-10-04', 56.95, 'RETL'),\n",
       " (10, 'NKE', 'Nike Inc', 10, '2022-10-04', 87.7, 'RETL'),\n",
       " (11, 'AAPL', 'Apple Inc', 11, '2022-09-20', 153.4, 'IT'),\n",
       " (12, 'BA', 'Boeing Co', 12, '2022-09-20', 145.26, 'AERO'),\n",
       " (13, 'INTC', 'Intel Corp', 13, '2022-09-20', 29.065, 'IT'),\n",
       " (14, 'KO', 'Coca-Cola Co', 14, '2022-09-20', 59.68, 'RETL'),\n",
       " (15, 'NKE', 'Nike Inc', 15, '2022-09-20', 103.82, 'RETL'),\n",
       " (16, 'AAPL', 'Apple Inc', 16, '2022-09-02', 159.75, 'IT'),\n",
       " (17, 'BA', 'Boeing Co', 17, '2022-09-02', 155.19, 'AERO'),\n",
       " (18, 'INTC', 'Intel Corp', 18, '2022-09-02', 32.21, 'IT'),\n",
       " (19, 'KO', 'Coca-Cola Co', 19, '2022-09-02', 62.39, 'RETL'),\n",
       " (20, 'NKE', 'Nike Inc', 20, '2022-09-02', 107.46, 'RETL'),\n",
       " (21, 'AAPL', 'Apple Inc', 21, '2022-08-22', 169.69, 'IT'),\n",
       " (22, 'BA', 'Boeing Co', 22, '2022-08-22', 159.4, 'AERO'),\n",
       " (23, 'INTC', 'Intel Corp', 23, '2022-08-22', 35.0, 'IT'),\n",
       " (24, 'KO', 'Coca-Cola Co', 24, '2022-08-22', 64.84, 'RETL'),\n",
       " (25, 'NKE', 'Nike Inc', 25, '2022-08-22', 111.02, 'RETL'),\n",
       " (26, 'AAPL', 'Apple Inc', 26, '2022-08-08', 166.37, 'IT'),\n",
       " (27, 'BA', 'Boeing Co', 27, '2022-08-08', 166.41, 'AERO'),\n",
       " (28, 'INTC', 'Intel Corp', 28, '2022-08-08', 35.36, 'IT'),\n",
       " (29, 'KO', 'Coca-Cola Co', 29, '2022-08-08', 63.5, 'RETL'),\n",
       " (30, 'NKE', 'Nike Inc', 30, '2022-08-08', 114.0, 'RETL'),\n",
       " (31, 'AAPL', 'Apple Inc', 31, '2022-11-05', 138.38, 'IT'),\n",
       " (32, 'BA', 'Boeing Co', 32, '2022-11-05', 160.01, 'AERO'),\n",
       " (33, 'NKE', 'Nike Inc', 33, '2022-11-05', 95.79, 'RETL'),\n",
       " (34, 'KO', 'Coca-Cola Co', 34, '2022-11-05', 59.26, 'RETL'),\n",
       " (35, 'INTC', 'Intel Corp', 35, '2022-11-05', 28.2, 'IT')]"
      ]
     },
     "execution_count": 439,
     "metadata": {},
     "output_type": "execute_result"
    }
   ],
   "source": [
    "# 17. Check the resulting table\n",
    "cursor.execute ('''SELECT * \n",
    "FROM final_stocks;''').fetchall()"
   ]
  },
  {
   "cell_type": "code",
   "execution_count": 405,
   "id": "8899c7e6",
   "metadata": {},
   "outputs": [],
   "source": [
    "# 18. Close connection and cursor, commit changes\n",
    "cursor.close()\n",
    "connection.commit()\n",
    "connection.close()"
   ]
  }
 ],
 "metadata": {
  "kernelspec": {
   "display_name": "Python 3 (ipykernel)",
   "language": "python",
   "name": "python3"
  },
  "language_info": {
   "codemirror_mode": {
    "name": "ipython",
    "version": 3
   },
   "file_extension": ".py",
   "mimetype": "text/x-python",
   "name": "python",
   "nbconvert_exporter": "python",
   "pygments_lexer": "ipython3",
   "version": "3.9.7"
  }
 },
 "nbformat": 4,
 "nbformat_minor": 5
}
